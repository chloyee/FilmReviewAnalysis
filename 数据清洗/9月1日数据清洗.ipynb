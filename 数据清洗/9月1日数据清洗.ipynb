{
 "cells": [
  {
   "cell_type": "code",
   "execution_count": 1,
   "metadata": {},
   "outputs": [],
   "source": [
    "import pandas as pd\n",
    "df = pd.read_csv(\"./FilmReview.csv\")"
   ]
  },
  {
   "cell_type": "code",
   "execution_count": 2,
   "metadata": {},
   "outputs": [
    {
     "data": {
      "text/html": [
       "<div>\n",
       "<style scoped>\n",
       "    .dataframe tbody tr th:only-of-type {\n",
       "        vertical-align: middle;\n",
       "    }\n",
       "\n",
       "    .dataframe tbody tr th {\n",
       "        vertical-align: top;\n",
       "    }\n",
       "\n",
       "    .dataframe thead th {\n",
       "        text-align: right;\n",
       "    }\n",
       "</style>\n",
       "<table border=\"1\" class=\"dataframe\">\n",
       "  <thead>\n",
       "    <tr style=\"text-align: right;\">\n",
       "      <th></th>\n",
       "      <th>film</th>\n",
       "      <th>user</th>\n",
       "      <th>star</th>\n",
       "      <th>time</th>\n",
       "      <th>content</th>\n",
       "    </tr>\n",
       "  </thead>\n",
       "  <tbody>\n",
       "    <tr>\n",
       "      <th>0</th>\n",
       "      <td>山村老尸</td>\n",
       "      <td>厌氧大蘑菇</td>\n",
       "      <td>2014-01-28</td>\n",
       "      <td>2014-01-28</td>\n",
       "      <td>哈哈哈哈哈初中时候谁看过来着天天说剧情啊喂</td>\n",
       "    </tr>\n",
       "    <tr>\n",
       "      <th>1</th>\n",
       "      <td>山村老尸</td>\n",
       "      <td>大爷</td>\n",
       "      <td>推荐</td>\n",
       "      <td>2012-03-26</td>\n",
       "      <td>重温了一遍  依然觉得很恐怖    14.1.21又看了一遍  完全不觉得恐怖了……</td>\n",
       "    </tr>\n",
       "    <tr>\n",
       "      <th>2</th>\n",
       "      <td>山村老尸</td>\n",
       "      <td>火山君</td>\n",
       "      <td>力荐</td>\n",
       "      <td>2010-12-10</td>\n",
       "      <td>膜拜国产经典鬼片 膜拜！！！</td>\n",
       "    </tr>\n",
       "    <tr>\n",
       "      <th>3</th>\n",
       "      <td>山村老尸</td>\n",
       "      <td>Kepler 452b</td>\n",
       "      <td>还行</td>\n",
       "      <td>2013-03-15</td>\n",
       "      <td>还可以。有情人还是应该终成眷属啊</td>\n",
       "    </tr>\n",
       "    <tr>\n",
       "      <th>4</th>\n",
       "      <td>山村老尸</td>\n",
       "      <td>Cynthia</td>\n",
       "      <td>推荐</td>\n",
       "      <td>2010-02-06</td>\n",
       "      <td>高中同桌给我讲了完整的故事，后来看的还是觉得寒。少有的港式恐怖佳片，近年已不多见了</td>\n",
       "    </tr>\n",
       "  </tbody>\n",
       "</table>\n",
       "</div>"
      ],
      "text/plain": [
       "   film         user        star        time  \\\n",
       "0  山村老尸        厌氧大蘑菇  2014-01-28  2014-01-28   \n",
       "1  山村老尸           大爷          推荐  2012-03-26   \n",
       "2  山村老尸          火山君          力荐  2010-12-10   \n",
       "3  山村老尸  Kepler 452b          还行  2013-03-15   \n",
       "4  山村老尸      Cynthia          推荐  2010-02-06   \n",
       "\n",
       "                                      content  \n",
       "0                       哈哈哈哈哈初中时候谁看过来着天天说剧情啊喂  \n",
       "1  重温了一遍  依然觉得很恐怖    14.1.21又看了一遍  完全不觉得恐怖了……  \n",
       "2                              膜拜国产经典鬼片 膜拜！！！  \n",
       "3                            还可以。有情人还是应该终成眷属啊  \n",
       "4   高中同桌给我讲了完整的故事，后来看的还是觉得寒。少有的港式恐怖佳片，近年已不多见了  "
      ]
     },
     "execution_count": 2,
     "metadata": {},
     "output_type": "execute_result"
    }
   ],
   "source": [
    "df.head()"
   ]
  },
  {
   "cell_type": "markdown",
   "metadata": {},
   "source": [
    "### 查看有无缺失值"
   ]
  },
  {
   "cell_type": "code",
   "execution_count": 26,
   "metadata": {},
   "outputs": [
    {
     "data": {
      "text/plain": [
       "film       False\n",
       "user       False\n",
       "star       False\n",
       "time       False\n",
       "content    False\n",
       "dtype: bool"
      ]
     },
     "execution_count": 26,
     "metadata": {},
     "output_type": "execute_result"
    }
   ],
   "source": [
    "df.isnull().any()"
   ]
  },
  {
   "cell_type": "markdown",
   "metadata": {},
   "source": [
    "### 异常值处理"
   ]
  },
  {
   "cell_type": "code",
   "execution_count": 33,
   "metadata": {},
   "outputs": [
    {
     "data": {
      "text/plain": [
       "力荐            3907\n",
       "推荐            3301\n",
       "还行            1277\n",
       "较差             250\n",
       "很差             118\n",
       "              ... \n",
       "2008-02-13       1\n",
       "2009-02-21       1\n",
       "2006-03-02       1\n",
       "2007-07-27       1\n",
       "2009-06-12       1\n",
       "Name: star, Length: 204, dtype: int64"
      ]
     },
     "execution_count": 33,
     "metadata": {},
     "output_type": "execute_result"
    }
   ],
   "source": [
    "df['star'].value_counts(dropna = False)"
   ]
  },
  {
   "cell_type": "code",
   "execution_count": 44,
   "metadata": {},
   "outputs": [],
   "source": [
    "train = []\n",
    "train = df['star']"
   ]
  },
  {
   "cell_type": "code",
   "execution_count": 50,
   "metadata": {},
   "outputs": [],
   "source": [
    "for i in range(len(train)):\n",
    "    if len(train[i].split('-'))==3:\n",
    "        train[i] = '暂未评价'"
   ]
  },
  {
   "cell_type": "code",
   "execution_count": 51,
   "metadata": {},
   "outputs": [],
   "source": [
    "df['star'] = train"
   ]
  },
  {
   "cell_type": "code",
   "execution_count": 52,
   "metadata": {},
   "outputs": [
    {
     "data": {
      "text/plain": [
       "力荐      3907\n",
       "推荐      3301\n",
       "还行      1277\n",
       "较差       250\n",
       "暂未评价     220\n",
       "很差       118\n",
       "Name: star, dtype: int64"
      ]
     },
     "execution_count": 52,
     "metadata": {},
     "output_type": "execute_result"
    }
   ],
   "source": [
    "df['star'].value_counts(dropna = False)"
   ]
  },
  {
   "cell_type": "code",
   "execution_count": 53,
   "metadata": {},
   "outputs": [
    {
     "data": {
      "text/plain": [
       "9073"
      ]
     },
     "execution_count": 53,
     "metadata": {},
     "output_type": "execute_result"
    }
   ],
   "source": [
    "len(df)"
   ]
  },
  {
   "cell_type": "markdown",
   "metadata": {},
   "source": [
    "### 去重"
   ]
  },
  {
   "cell_type": "code",
   "execution_count": 54,
   "metadata": {},
   "outputs": [
    {
     "data": {
      "text/html": [
       "<div>\n",
       "<style scoped>\n",
       "    .dataframe tbody tr th:only-of-type {\n",
       "        vertical-align: middle;\n",
       "    }\n",
       "\n",
       "    .dataframe tbody tr th {\n",
       "        vertical-align: top;\n",
       "    }\n",
       "\n",
       "    .dataframe thead th {\n",
       "        text-align: right;\n",
       "    }\n",
       "</style>\n",
       "<table border=\"1\" class=\"dataframe\">\n",
       "  <thead>\n",
       "    <tr style=\"text-align: right;\">\n",
       "      <th></th>\n",
       "      <th>film</th>\n",
       "      <th>user</th>\n",
       "      <th>star</th>\n",
       "      <th>time</th>\n",
       "      <th>content</th>\n",
       "    </tr>\n",
       "  </thead>\n",
       "  <tbody>\n",
       "    <tr>\n",
       "      <th>0</th>\n",
       "      <td>山村老尸</td>\n",
       "      <td>厌氧大蘑菇</td>\n",
       "      <td>暂未评价</td>\n",
       "      <td>2014-01-28</td>\n",
       "      <td>哈哈哈哈哈初中时候谁看过来着天天说剧情啊喂</td>\n",
       "    </tr>\n",
       "    <tr>\n",
       "      <th>1</th>\n",
       "      <td>山村老尸</td>\n",
       "      <td>大爷</td>\n",
       "      <td>推荐</td>\n",
       "      <td>2012-03-26</td>\n",
       "      <td>重温了一遍  依然觉得很恐怖    14.1.21又看了一遍  完全不觉得恐怖了……</td>\n",
       "    </tr>\n",
       "    <tr>\n",
       "      <th>2</th>\n",
       "      <td>山村老尸</td>\n",
       "      <td>火山君</td>\n",
       "      <td>力荐</td>\n",
       "      <td>2010-12-10</td>\n",
       "      <td>膜拜国产经典鬼片 膜拜！！！</td>\n",
       "    </tr>\n",
       "    <tr>\n",
       "      <th>3</th>\n",
       "      <td>山村老尸</td>\n",
       "      <td>Kepler 452b</td>\n",
       "      <td>还行</td>\n",
       "      <td>2013-03-15</td>\n",
       "      <td>还可以。有情人还是应该终成眷属啊</td>\n",
       "    </tr>\n",
       "    <tr>\n",
       "      <th>4</th>\n",
       "      <td>山村老尸</td>\n",
       "      <td>Cynthia</td>\n",
       "      <td>推荐</td>\n",
       "      <td>2010-02-06</td>\n",
       "      <td>高中同桌给我讲了完整的故事，后来看的还是觉得寒。少有的港式恐怖佳片，近年已不多见了</td>\n",
       "    </tr>\n",
       "    <tr>\n",
       "      <th>...</th>\n",
       "      <td>...</td>\n",
       "      <td>...</td>\n",
       "      <td>...</td>\n",
       "      <td>...</td>\n",
       "      <td>...</td>\n",
       "    </tr>\n",
       "    <tr>\n",
       "      <th>9068</th>\n",
       "      <td>饮食男女</td>\n",
       "      <td>小米=qdmimi</td>\n",
       "      <td>推荐</td>\n",
       "      <td>2007-08-11</td>\n",
       "      <td>想打四点五星，都很到位</td>\n",
       "    </tr>\n",
       "    <tr>\n",
       "      <th>9069</th>\n",
       "      <td>饮食男女</td>\n",
       "      <td>Mignon</td>\n",
       "      <td>力荐</td>\n",
       "      <td>2012-12-16</td>\n",
       "      <td>又看一遍。发现在温文尔雅的外表下，李安其实是个“坏人”（年轻的时候潮爆了不是白潮的）。补肾方...</td>\n",
       "    </tr>\n",
       "    <tr>\n",
       "      <th>9070</th>\n",
       "      <td>饮食男女</td>\n",
       "      <td>seabisuit</td>\n",
       "      <td>力荐</td>\n",
       "      <td>2018-08-05</td>\n",
       "      <td>李安豆瓣评分最高也是去好莱坞前在台湾制作的最后一部，朗雄的角色有联想到哀乐中年的石挥，仿佛也...</td>\n",
       "    </tr>\n",
       "    <tr>\n",
       "      <th>9071</th>\n",
       "      <td>饮食男女</td>\n",
       "      <td>丹朱AI🌵</td>\n",
       "      <td>推荐</td>\n",
       "      <td>2013-11-17</td>\n",
       "      <td>笙歌归院落，灯火下楼台。</td>\n",
       "    </tr>\n",
       "    <tr>\n",
       "      <th>9072</th>\n",
       "      <td>饮食男女</td>\n",
       "      <td>孤岛影者</td>\n",
       "      <td>推荐</td>\n",
       "      <td>2019-10-12</td>\n",
       "      <td>【李安“家庭/父亲三部曲”之三】四星半。此三部曲皆是李安导演亲自参与编剧，明显可见在剧作层面...</td>\n",
       "    </tr>\n",
       "  </tbody>\n",
       "</table>\n",
       "<p>9068 rows × 5 columns</p>\n",
       "</div>"
      ],
      "text/plain": [
       "      film         user  star        time  \\\n",
       "0     山村老尸        厌氧大蘑菇  暂未评价  2014-01-28   \n",
       "1     山村老尸           大爷    推荐  2012-03-26   \n",
       "2     山村老尸          火山君    力荐  2010-12-10   \n",
       "3     山村老尸  Kepler 452b    还行  2013-03-15   \n",
       "4     山村老尸      Cynthia    推荐  2010-02-06   \n",
       "...    ...          ...   ...         ...   \n",
       "9068  饮食男女    小米=qdmimi    推荐  2007-08-11   \n",
       "9069  饮食男女       Mignon    力荐  2012-12-16   \n",
       "9070  饮食男女    seabisuit    力荐  2018-08-05   \n",
       "9071  饮食男女        丹朱AI🌵    推荐  2013-11-17   \n",
       "9072  饮食男女         孤岛影者    推荐  2019-10-12   \n",
       "\n",
       "                                                content  \n",
       "0                                 哈哈哈哈哈初中时候谁看过来着天天说剧情啊喂  \n",
       "1            重温了一遍  依然觉得很恐怖    14.1.21又看了一遍  完全不觉得恐怖了……  \n",
       "2                                        膜拜国产经典鬼片 膜拜！！！  \n",
       "3                                      还可以。有情人还是应该终成眷属啊  \n",
       "4             高中同桌给我讲了完整的故事，后来看的还是觉得寒。少有的港式恐怖佳片，近年已不多见了  \n",
       "...                                                 ...  \n",
       "9068                                        想打四点五星，都很到位  \n",
       "9069  又看一遍。发现在温文尔雅的外表下，李安其实是个“坏人”（年轻的时候潮爆了不是白潮的）。补肾方...  \n",
       "9070  李安豆瓣评分最高也是去好莱坞前在台湾制作的最后一部，朗雄的角色有联想到哀乐中年的石挥，仿佛也...  \n",
       "9071                                       笙歌归院落，灯火下楼台。  \n",
       "9072  【李安“家庭/父亲三部曲”之三】四星半。此三部曲皆是李安导演亲自参与编剧，明显可见在剧作层面...  \n",
       "\n",
       "[9068 rows x 5 columns]"
      ]
     },
     "execution_count": 54,
     "metadata": {},
     "output_type": "execute_result"
    }
   ],
   "source": [
    "df.drop_duplicates()"
   ]
  },
  {
   "cell_type": "code",
   "execution_count": 55,
   "metadata": {},
   "outputs": [],
   "source": [
    "df.to_csv(\"./first9000.csv\")"
   ]
  },
  {
   "cell_type": "code",
   "execution_count": null,
   "metadata": {},
   "outputs": [],
   "source": []
  }
 ],
 "metadata": {
  "kernelspec": {
   "display_name": "Python 3",
   "language": "python",
   "name": "python3"
  },
  "language_info": {
   "codemirror_mode": {
    "name": "ipython",
    "version": 3
   },
   "file_extension": ".py",
   "mimetype": "text/x-python",
   "name": "python",
   "nbconvert_exporter": "python",
   "pygments_lexer": "ipython3",
   "version": "3.7.3"
  }
 },
 "nbformat": 4,
 "nbformat_minor": 2
}
