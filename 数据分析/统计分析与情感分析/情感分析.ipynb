{
 "cells": [
  {
   "cell_type": "code",
   "execution_count": 1,
   "metadata": {},
   "outputs": [],
   "source": [
    "import pandas as pd\n",
    "from sklearn.feature_extraction.text import CountVectorizer\n",
    "import jieba\n",
    "\n",
    "import re"
   ]
  },
  {
   "cell_type": "code",
   "execution_count": 2,
   "metadata": {},
   "outputs": [],
   "source": [
    "# 训练集\n",
    "train_df = pd.read_csv('training_set.txt', sep=\"\\t\", header=None, names=[\"label\", \"sentence\"])\n",
    "val_df = pd.read_csv('validation_set.txt', sep=\"\\t\", header=None, names=[\"label\", \"sentence\"])\n",
    "train = pd.concat([train_df,val_df],axis=0)\n",
    "train.head()\n",
    "\n",
    "# 打乱训练集的顺序\n",
    "train = train.sample(frac=1, random_state=1)\n",
    "train.reset_index(inplace=True, drop=True)"
   ]
  },
  {
   "cell_type": "code",
   "execution_count": 3,
   "metadata": {},
   "outputs": [],
   "source": [
    "from sklearn.model_selection import train_test_split\n",
    "Xtrain, Xtest,Ytrain,Ytest = train_test_split(train[\"sentence\"],train[\"label\"],test_size=0.3)"
   ]
  },
  {
   "cell_type": "code",
   "execution_count": 4,
   "metadata": {},
   "outputs": [],
   "source": [
    "from sklearn.feature_extraction.text import CountVectorizer\n",
    "# 统计词频信息\n",
    "count_vector = CountVectorizer(max_df=0.8, min_df=3)\n",
    "vecot_matrix= count_vector.fit_transform(Xtrain)\n",
    "# vecot_matrix.toarray()\n",
    "# count_vector.vocabulary_\n",
    "\n",
    "from sklearn.feature_extraction.text import TfidfTransformer\n",
    "transformer=TfidfTransformer()\n",
    "tfidf = transformer.fit_transform(vecot_matrix)"
   ]
  },
  {
   "cell_type": "code",
   "execution_count": 5,
   "metadata": {},
   "outputs": [
    {
     "name": "stdout",
     "output_type": "stream",
     "text": [
      "0.8912458097488597\n"
     ]
    }
   ],
   "source": [
    "from sklearn.naive_bayes import MultinomialNB\n",
    "nb = MultinomialNB()\n",
    "\n",
    "# X_train_vect = vect.fit_transform(X_train)\n",
    "nb.fit( tfidf, Ytrain)\n",
    "train_score = nb.score(tfidf, Ytrain)\n",
    "print(train_score)\n",
    "\n",
    "# result 0.8912458097488597"
   ]
  },
  {
   "cell_type": "code",
   "execution_count": 6,
   "metadata": {},
   "outputs": [],
   "source": [
    "test_tfidf = transformer.fit_transform(count_vector.transform(Xtest))"
   ]
  },
  {
   "cell_type": "code",
   "execution_count": 8,
   "metadata": {},
   "outputs": [
    {
     "data": {
      "text/plain": [
       "0.83690216694448"
      ]
     },
     "execution_count": 8,
     "metadata": {},
     "output_type": "execute_result"
    }
   ],
   "source": [
    "# 查看测试集上的效果\n",
    "test_score = nb.score(test_tfidf,Ytest)\n",
    "test_score\n",
    "# 0.8379279394794205"
   ]
  },
  {
   "cell_type": "raw",
   "metadata": {},
   "source": [
    "# 去除非中文字符\n",
    "def find_chinese(content):\n",
    "    pattern = re.compile(r'[^\\u4e00-\\u9fa5]')\n",
    "    chinese = re.sub(pattern,'', content)\n",
    "    return chinese"
   ]
  },
  {
   "cell_type": "code",
   "execution_count": 38,
   "metadata": {},
   "outputs": [
    {
     "data": {
      "text/html": [
       "<div>\n",
       "<style scoped>\n",
       "    .dataframe tbody tr th:only-of-type {\n",
       "        vertical-align: middle;\n",
       "    }\n",
       "\n",
       "    .dataframe tbody tr th {\n",
       "        vertical-align: top;\n",
       "    }\n",
       "\n",
       "    .dataframe thead th {\n",
       "        text-align: right;\n",
       "    }\n",
       "</style>\n",
       "<table border=\"1\" class=\"dataframe\">\n",
       "  <thead>\n",
       "    <tr style=\"text-align: right;\">\n",
       "      <th></th>\n",
       "      <th>film</th>\n",
       "      <th>user</th>\n",
       "      <th>star</th>\n",
       "      <th>time</th>\n",
       "      <th>content</th>\n",
       "    </tr>\n",
       "  </thead>\n",
       "  <tbody>\n",
       "    <tr>\n",
       "      <th>0</th>\n",
       "      <td>007之黑日危机</td>\n",
       "      <td>yf747126</td>\n",
       "      <td>还行</td>\n",
       "      <td>2006-05-07</td>\n",
       "      <td>一部还算成功的商业片，我永远都不明白为什么女人会喜欢数字先生</td>\n",
       "    </tr>\n",
       "    <tr>\n",
       "      <th>1</th>\n",
       "      <td>007之黑日危机</td>\n",
       "      <td>托尼·王大拿</td>\n",
       "      <td>较差</td>\n",
       "      <td>2017-04-20</td>\n",
       "      <td>虽然苏菲·玛索人美戏好、丹妮丝·理查兹人美胸大，但咋又回到反派间歇性脑抽的老邦德路线了：直升...</td>\n",
       "    </tr>\n",
       "    <tr>\n",
       "      <th>2</th>\n",
       "      <td>007之黑日危机</td>\n",
       "      <td>南條某葉</td>\n",
       "      <td>推荐</td>\n",
       "      <td>2013-01-30</td>\n",
       "      <td>007-19，我以为我没看过，下下来一看原来是看过的= =b，顺便：苏菲玛索好美！</td>\n",
       "    </tr>\n",
       "    <tr>\n",
       "      <th>3</th>\n",
       "      <td>007之黑日危机</td>\n",
       "      <td>乐事</td>\n",
       "      <td>还行</td>\n",
       "      <td>2009-08-10</td>\n",
       "      <td>布卢斯皮尔斯南的007系列，还可以吧，不同的就是这部中有苏菲玛索饰演的，反面邦女郎。很美！</td>\n",
       "    </tr>\n",
       "    <tr>\n",
       "      <th>4</th>\n",
       "      <td>007之黑日危机</td>\n",
       "      <td>躺着也中枪</td>\n",
       "      <td>还行</td>\n",
       "      <td>2012-10-27</td>\n",
       "      <td>可惜了苏菲玛索这妹子，居然演的反派\\r</td>\n",
       "    </tr>\n",
       "  </tbody>\n",
       "</table>\n",
       "</div>"
      ],
      "text/plain": [
       "       film      user star        time  \\\n",
       "0  007之黑日危机  yf747126   还行  2006-05-07   \n",
       "1  007之黑日危机    托尼·王大拿   较差  2017-04-20   \n",
       "2  007之黑日危机      南條某葉   推荐  2013-01-30   \n",
       "3  007之黑日危机        乐事   还行  2009-08-10   \n",
       "4  007之黑日危机     躺着也中枪   还行  2012-10-27   \n",
       "\n",
       "                                             content  \n",
       "0                     一部还算成功的商业片，我永远都不明白为什么女人会喜欢数字先生  \n",
       "1  虽然苏菲·玛索人美戏好、丹妮丝·理查兹人美胸大，但咋又回到反派间歇性脑抽的老邦德路线了：直升...  \n",
       "2          007-19，我以为我没看过，下下来一看原来是看过的= =b，顺便：苏菲玛索好美！  \n",
       "3      布卢斯皮尔斯南的007系列，还可以吧，不同的就是这部中有苏菲玛索饰演的，反面邦女郎。很美！  \n",
       "4                              可惜了苏菲玛索这妹子，居然演的反派\\r    "
      ]
     },
     "execution_count": 38,
     "metadata": {},
     "output_type": "execute_result"
    }
   ],
   "source": [
    "df = pd.read_csv(r\"film8w5.csv\",encoding = 'utf-8',lineterminator=\"\\n\")\n",
    "df.head()"
   ]
  },
  {
   "cell_type": "code",
   "execution_count": 39,
   "metadata": {},
   "outputs": [],
   "source": [
    "# 分词 + 去除停用词\n",
    "def deleteStopWord(sentence):\n",
    "    with open(r\"stop_words.txt\",'r',encoding='utf-8') as f:\n",
    "        stop_word = f.read()\n",
    "    s = ''\n",
    "    sentence = ' '.join(jieba.cut(sentence))\n",
    "    for i in sentence.split(\" \"):\n",
    "        if i not in stop_word:\n",
    "            s += i + \" \"\n",
    "    return s\n",
    "\n",
    "df['content'] = df['content'].map(lambda c : deleteStopWord(c))\n",
    "\n",
    "df.head()"
   ]
  },
  {
   "cell_type": "code",
   "execution_count": 41,
   "metadata": {},
   "outputs": [],
   "source": [
    "df_tfidf = transformer.fit_transform(count_vector.transform(df[\"content\"]))"
   ]
  },
  {
   "cell_type": "code",
   "execution_count": 42,
   "metadata": {},
   "outputs": [],
   "source": [
    "predict = nb.predict(df_tfidf)"
   ]
  },
  {
   "cell_type": "code",
   "execution_count": 43,
   "metadata": {},
   "outputs": [],
   "source": [
    "df[\"nb_predict\"] = pd.DataFrame(predict)"
   ]
  },
  {
   "cell_type": "code",
   "execution_count": 44,
   "metadata": {
    "collapsed": true
   },
   "outputs": [
    {
     "data": {
      "text/plain": [
       "0    51169\n",
       "1    33677\n",
       "Name: nb_predict, dtype: int64"
      ]
     },
     "execution_count": 44,
     "metadata": {},
     "output_type": "execute_result"
    }
   ],
   "source": [
    "df[\"nb_predict\"].value_counts()"
   ]
  },
  {
   "cell_type": "markdown",
   "metadata": {},
   "source": [
    "### 根据时间统计正负评的数量"
   ]
  },
  {
   "cell_type": "code",
   "execution_count": 157,
   "metadata": {},
   "outputs": [],
   "source": [
    "# 改变时间格式\n",
    "def changeTime(c):\n",
    "    c = c.split(\"-\")[0]\n",
    "    return c\n",
    "# changeTime(\"2006-05-07\")\n",
    "df['time'] = df['time'].map(lambda c : changeTime(c) )"
   ]
  },
  {
   "cell_type": "code",
   "execution_count": 180,
   "metadata": {},
   "outputs": [],
   "source": [
    "positive = df.groupby(by=[\"time\"])['nb_predict'].sum()\n",
    "positive = pd.DataFrame(positive)\n",
    "\n",
    "# 计算每年负评论的数量\n",
    "positive.reset_index(inplace=True)\n"
   ]
  },
  {
   "cell_type": "code",
   "execution_count": 221,
   "metadata": {},
   "outputs": [
    {
     "data": {
      "text/html": [
       "<div>\n",
       "<style scoped>\n",
       "    .dataframe tbody tr th:only-of-type {\n",
       "        vertical-align: middle;\n",
       "    }\n",
       "\n",
       "    .dataframe tbody tr th {\n",
       "        vertical-align: top;\n",
       "    }\n",
       "\n",
       "    .dataframe thead th {\n",
       "        text-align: right;\n",
       "    }\n",
       "</style>\n",
       "<table border=\"1\" class=\"dataframe\">\n",
       "  <thead>\n",
       "    <tr style=\"text-align: right;\">\n",
       "      <th></th>\n",
       "      <th>time</th>\n",
       "      <th>nb_predict</th>\n",
       "    </tr>\n",
       "  </thead>\n",
       "  <tbody>\n",
       "    <tr>\n",
       "      <th>0</th>\n",
       "      <td>2005</td>\n",
       "      <td>68</td>\n",
       "    </tr>\n",
       "    <tr>\n",
       "      <th>1</th>\n",
       "      <td>2006</td>\n",
       "      <td>451</td>\n",
       "    </tr>\n",
       "    <tr>\n",
       "      <th>2</th>\n",
       "      <td>2007</td>\n",
       "      <td>841</td>\n",
       "    </tr>\n",
       "    <tr>\n",
       "      <th>3</th>\n",
       "      <td>2008</td>\n",
       "      <td>2365</td>\n",
       "    </tr>\n",
       "    <tr>\n",
       "      <th>4</th>\n",
       "      <td>2009</td>\n",
       "      <td>2578</td>\n",
       "    </tr>\n",
       "    <tr>\n",
       "      <th>5</th>\n",
       "      <td>2010</td>\n",
       "      <td>4193</td>\n",
       "    </tr>\n",
       "    <tr>\n",
       "      <th>6</th>\n",
       "      <td>2011</td>\n",
       "      <td>5439</td>\n",
       "    </tr>\n",
       "    <tr>\n",
       "      <th>7</th>\n",
       "      <td>2012</td>\n",
       "      <td>4754</td>\n",
       "    </tr>\n",
       "    <tr>\n",
       "      <th>8</th>\n",
       "      <td>2013</td>\n",
       "      <td>2877</td>\n",
       "    </tr>\n",
       "    <tr>\n",
       "      <th>9</th>\n",
       "      <td>2014</td>\n",
       "      <td>1637</td>\n",
       "    </tr>\n",
       "    <tr>\n",
       "      <th>10</th>\n",
       "      <td>2015</td>\n",
       "      <td>751</td>\n",
       "    </tr>\n",
       "    <tr>\n",
       "      <th>11</th>\n",
       "      <td>2016</td>\n",
       "      <td>1069</td>\n",
       "    </tr>\n",
       "    <tr>\n",
       "      <th>12</th>\n",
       "      <td>2017</td>\n",
       "      <td>2115</td>\n",
       "    </tr>\n",
       "    <tr>\n",
       "      <th>13</th>\n",
       "      <td>2018</td>\n",
       "      <td>1463</td>\n",
       "    </tr>\n",
       "    <tr>\n",
       "      <th>14</th>\n",
       "      <td>2019</td>\n",
       "      <td>1369</td>\n",
       "    </tr>\n",
       "    <tr>\n",
       "      <th>15</th>\n",
       "      <td>2020</td>\n",
       "      <td>1208</td>\n",
       "    </tr>\n",
       "  </tbody>\n",
       "</table>\n",
       "</div>"
      ],
      "text/plain": [
       "    time  nb_predict\n",
       "0   2005          68\n",
       "1   2006         451\n",
       "2   2007         841\n",
       "3   2008        2365\n",
       "4   2009        2578\n",
       "5   2010        4193\n",
       "6   2011        5439\n",
       "7   2012        4754\n",
       "8   2013        2877\n",
       "9   2014        1637\n",
       "10  2015         751\n",
       "11  2016        1069\n",
       "12  2017        2115\n",
       "13  2018        1463\n",
       "14  2019        1369\n",
       "15  2020        1208"
      ]
     },
     "execution_count": 221,
     "metadata": {},
     "output_type": "execute_result"
    }
   ],
   "source": [
    "positive"
   ]
  },
  {
   "cell_type": "code",
   "execution_count": 252,
   "metadata": {},
   "outputs": [
    {
     "data": {
      "text/html": [
       "<div>\n",
       "<style scoped>\n",
       "    .dataframe tbody tr th:only-of-type {\n",
       "        vertical-align: middle;\n",
       "    }\n",
       "\n",
       "    .dataframe tbody tr th {\n",
       "        vertical-align: top;\n",
       "    }\n",
       "\n",
       "    .dataframe thead th {\n",
       "        text-align: right;\n",
       "    }\n",
       "</style>\n",
       "<table border=\"1\" class=\"dataframe\">\n",
       "  <thead>\n",
       "    <tr style=\"text-align: right;\">\n",
       "      <th></th>\n",
       "      <th>time</th>\n",
       "      <th>count</th>\n",
       "    </tr>\n",
       "  </thead>\n",
       "  <tbody>\n",
       "    <tr>\n",
       "      <th>0</th>\n",
       "      <td>2005</td>\n",
       "      <td>183</td>\n",
       "    </tr>\n",
       "    <tr>\n",
       "      <th>1</th>\n",
       "      <td>2006</td>\n",
       "      <td>1100</td>\n",
       "    </tr>\n",
       "    <tr>\n",
       "      <th>2</th>\n",
       "      <td>2007</td>\n",
       "      <td>2182</td>\n",
       "    </tr>\n",
       "    <tr>\n",
       "      <th>3</th>\n",
       "      <td>2008</td>\n",
       "      <td>5789</td>\n",
       "    </tr>\n",
       "    <tr>\n",
       "      <th>4</th>\n",
       "      <td>2009</td>\n",
       "      <td>6636</td>\n",
       "    </tr>\n",
       "    <tr>\n",
       "      <th>5</th>\n",
       "      <td>2010</td>\n",
       "      <td>10842</td>\n",
       "    </tr>\n",
       "    <tr>\n",
       "      <th>6</th>\n",
       "      <td>2011</td>\n",
       "      <td>13491</td>\n",
       "    </tr>\n",
       "    <tr>\n",
       "      <th>7</th>\n",
       "      <td>2012</td>\n",
       "      <td>11827</td>\n",
       "    </tr>\n",
       "    <tr>\n",
       "      <th>8</th>\n",
       "      <td>2013</td>\n",
       "      <td>6882</td>\n",
       "    </tr>\n",
       "    <tr>\n",
       "      <th>9</th>\n",
       "      <td>2014</td>\n",
       "      <td>3937</td>\n",
       "    </tr>\n",
       "    <tr>\n",
       "      <th>10</th>\n",
       "      <td>2015</td>\n",
       "      <td>1937</td>\n",
       "    </tr>\n",
       "    <tr>\n",
       "      <th>11</th>\n",
       "      <td>2016</td>\n",
       "      <td>2895</td>\n",
       "    </tr>\n",
       "    <tr>\n",
       "      <th>12</th>\n",
       "      <td>2017</td>\n",
       "      <td>5980</td>\n",
       "    </tr>\n",
       "    <tr>\n",
       "      <th>13</th>\n",
       "      <td>2018</td>\n",
       "      <td>4370</td>\n",
       "    </tr>\n",
       "    <tr>\n",
       "      <th>14</th>\n",
       "      <td>2019</td>\n",
       "      <td>3767</td>\n",
       "    </tr>\n",
       "    <tr>\n",
       "      <th>15</th>\n",
       "      <td>2020</td>\n",
       "      <td>3028</td>\n",
       "    </tr>\n",
       "  </tbody>\n",
       "</table>\n",
       "</div>"
      ],
      "text/plain": [
       "    time  count\n",
       "0   2005    183\n",
       "1   2006   1100\n",
       "2   2007   2182\n",
       "3   2008   5789\n",
       "4   2009   6636\n",
       "5   2010  10842\n",
       "6   2011  13491\n",
       "7   2012  11827\n",
       "8   2013   6882\n",
       "9   2014   3937\n",
       "10  2015   1937\n",
       "11  2016   2895\n",
       "12  2017   5980\n",
       "13  2018   4370\n",
       "14  2019   3767\n",
       "15  2020   3028"
      ]
     },
     "execution_count": 252,
     "metadata": {},
     "output_type": "execute_result"
    }
   ],
   "source": [
    "time_count = pd.DataFrame(df['time'].value_counts())\n",
    "time_count.reset_index(inplace=True)\n",
    "time_count.columns = ['time','count']\n",
    "time_count = time_count.sort_values(by='time' ,ascending=True)\n",
    "time_count.reset_index(inplace=True,drop=True)\n",
    "time_count"
   ]
  },
  {
   "cell_type": "code",
   "execution_count": 255,
   "metadata": {},
   "outputs": [],
   "source": [
    "negative = time_count.copy()\n",
    "negative['count'] = time_count['count'] - positive['nb_predict']"
   ]
  },
  {
   "cell_type": "code",
   "execution_count": 256,
   "metadata": {},
   "outputs": [
    {
     "data": {
      "text/plain": [
       "51668"
      ]
     },
     "execution_count": 256,
     "metadata": {},
     "output_type": "execute_result"
    }
   ],
   "source": [
    "negative['count'].sum()"
   ]
  },
  {
   "cell_type": "code",
   "execution_count": 260,
   "metadata": {},
   "outputs": [
    {
     "name": "stdout",
     "output_type": "stream",
     "text": [
      "['2005', '2006', '2007', '2008', '2009', '2010', '2011', '2012', '2013', '2014', '2015', '2016', '2017', '2018', '2019', '2020']\n",
      "[115, 649, 1341, 3424, 4058, 6649, 8052, 7073, 4005, 2300, 1186, 1826, 3865, 2907, 2398, 1820]\n",
      "[68, 451, 841, 2365, 2578, 4193, 5439, 4754, 2877, 1637, 751, 1069, 2115, 1463, 1369, 1208]\n"
     ]
    }
   ],
   "source": [
    "# print(positive['time'] == negative['time'])\n",
    "print(list(positive['time']))\n",
    "print(list(negative['count']))\n",
    "print(list(positive['nb_predict']))"
   ]
  },
  {
   "cell_type": "code",
   "execution_count": 257,
   "metadata": {},
   "outputs": [
    {
     "data": {
      "text/plain": [
       "51668"
      ]
     },
     "execution_count": 257,
     "metadata": {},
     "output_type": "execute_result"
    }
   ],
   "source": [
    "len(df['nb_predict']) - df['nb_predict'].sum()"
   ]
  },
  {
   "cell_type": "code",
   "execution_count": 118,
   "metadata": {},
   "outputs": [],
   "source": [
    "from sklearn.tree import DecisionTreeClassifier\n",
    "from sklearn.ensemble import RandomForestClassifier"
   ]
  },
  {
   "cell_type": "code",
   "execution_count": 120,
   "metadata": {},
   "outputs": [],
   "source": [
    "clf = DecisionTreeClassifier(random_state=1)\n",
    "clf = clf.fit(tfidf,Ytrain)\n",
    "\n",
    "score_c = clf.score(test_tfidf,Ytest)"
   ]
  },
  {
   "cell_type": "code",
   "execution_count": 121,
   "metadata": {},
   "outputs": [
    {
     "data": {
      "text/plain": [
       "0.6757276573919734"
      ]
     },
     "execution_count": 121,
     "metadata": {},
     "output_type": "execute_result"
    }
   ],
   "source": [
    "score_c"
   ]
  },
  {
   "cell_type": "code",
   "execution_count": 122,
   "metadata": {},
   "outputs": [],
   "source": [
    "rfc = RandomForestClassifier(random_state=1)\n",
    "rfc = rfc.fit(tfidf,Ytrain)\n",
    "score_r = rfc.score(test_tfidf,Ytest)"
   ]
  },
  {
   "cell_type": "code",
   "execution_count": 123,
   "metadata": {},
   "outputs": [
    {
     "data": {
      "text/plain": [
       "0.7897166303372227"
      ]
     },
     "execution_count": 123,
     "metadata": {},
     "output_type": "execute_result"
    }
   ],
   "source": [
    "score_r"
   ]
  },
  {
   "cell_type": "markdown",
   "metadata": {},
   "source": [
    "### 统计每部电影正向情感、负向情感每个星级的分数"
   ]
  },
  {
   "cell_type": "code",
   "execution_count": 141,
   "metadata": {},
   "outputs": [],
   "source": [
    "df1 = df.copy()\n",
    "df = df.query(\"star != '暂未评价'\")"
   ]
  },
  {
   "cell_type": "code",
   "execution_count": 145,
   "metadata": {},
   "outputs": [],
   "source": [
    "positive_df = df[df['nb_predict'].isin(['1'])]\n",
    "negative_df = df[df['nb_predict'].isin(['0'])]"
   ]
  },
  {
   "cell_type": "code",
   "execution_count": 146,
   "metadata": {},
   "outputs": [],
   "source": [
    "def getRadar(dataframe):\n",
    "    radar_df = pd.DataFrame(dataframe['star'].groupby(dataframe['film']).value_counts())\n",
    "    radar_df = radar_df.unstack()\n",
    "    return radar_df\n",
    "positive_rader = getRadar(positive_df)\n",
    "negative_radar = getRadar(negative_df)"
   ]
  }
 ],
 "metadata": {
  "kernelspec": {
   "display_name": "Python 3",
   "language": "python",
   "name": "python3"
  },
  "language_info": {
   "codemirror_mode": {
    "name": "ipython",
    "version": 3
   },
   "file_extension": ".py",
   "mimetype": "text/x-python",
   "name": "python",
   "nbconvert_exporter": "python",
   "pygments_lexer": "ipython3",
   "version": "3.7.3"
  }
 },
 "nbformat": 4,
 "nbformat_minor": 2
}
